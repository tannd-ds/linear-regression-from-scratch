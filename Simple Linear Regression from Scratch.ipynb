{
 "cells": [
  {
   "cell_type": "markdown",
   "id": "6a85741c",
   "metadata": {},
   "source": [
    "# Simple Linear Regression from scratch\n",
    "*This notebook was created on 26/08/2021*\n",
    "- In this notebook, I defined a Linear Regression Object (Class) from scratch (without using any predefined model from any library like scikit-learn, tensorflow or keras).\n",
    "- I built this based on what I remember from the **Logistic Regresisson Model from Scratch** I learnt from Mr.Andrew Ng on Coursera."
   ]
  },
  {
   "cell_type": "markdown",
   "id": "a1bc8edf",
   "metadata": {},
   "source": [
    "## Import Libaries"
   ]
  },
  {
   "cell_type": "code",
   "execution_count": 1,
   "id": "e9cf31e5",
   "metadata": {},
   "outputs": [],
   "source": [
    "import numpy as np\n",
    "import matplotlib.pyplot as plt"
   ]
  },
  {
   "cell_type": "markdown",
   "id": "5faa9db3",
   "metadata": {},
   "source": [
    "## Make an artificial dataset"
   ]
  },
  {
   "cell_type": "code",
   "execution_count": 2,
   "id": "cf8dcac5",
   "metadata": {},
   "outputs": [],
   "source": [
    "# Define expected Function\n",
    "X = 3 * np.random.rand(100, 1)\n",
    "y = 3 + 5 * X + np.random.randn(100, 1)"
   ]
  },
  {
   "cell_type": "code",
   "execution_count": 3,
   "id": "4751eb8b",
   "metadata": {
    "scrolled": true
   },
   "outputs": [
    {
     "data": {
      "image/png": "[encoded data removed]",
      "text/plain": [
       "<Figure size 432x288 with 1 Axes>"
      ]
     },
     "metadata": {
      "needs_background": "light"
     },
     "output_type": "display_data"
    }
   ],
   "source": [
    "plt.plot(X, y, \"b.\")\n",
    "plt.xlabel(\"$x_1$\")\n",
    "plt.ylabel(\"$y$\", rotation=0)\n",
    "plt.axis([0, 2, 0, 15])\n",
    "plt.show()"
   ]
  },
  {
   "cell_type": "markdown",
   "id": "ed2da5df",
   "metadata": {},
   "source": [
    "## Model Definition"
   ]
  },
  {
   "cell_type": "code",
   "execution_count": 4,
   "id": "71d02823",
   "metadata": {},
   "outputs": [],
   "source": [
    "class MyLinearModel:\n",
    "    def __init__(self, dims, learning_rate=0.05, n_estimators=100):\n",
    "        self.dims = dims\n",
    "        self.params = self.initial_parameters(self.dims)\n",
    "        self.learning_rate = learning_rate\n",
    "        self.n_estimators = n_estimators\n",
    "    \n",
    "    def initial_parameters(self, dims):\n",
    "        dims = dims + [1]\n",
    "        params = {}\n",
    "        for i in range(1, len(dims)):\n",
    "            params['W'] = np.random.rand(dims[i], dims[i-1])\n",
    "            params['b'] = np.zeros((dims[i], dims[i-1]))\n",
    "        return params\n",
    "    \n",
    "    def forward_propagation(self, X):\n",
    "        params = self.params\n",
    "        y_hat = np.dot(X, params['W']) + params['b']\n",
    "        return y_hat\n",
    "    \n",
    "    def backward_propagation(self, X, y, y_hat):\n",
    "        grads = {}\n",
    "        m = X.shape[0]\n",
    "        \n",
    "        grads['dW'] = 2/m * np.dot((y_hat - y).T, X)\n",
    "        grads['db'] = 2/m * np.sum(y_hat-y)\n",
    "        return grads\n",
    "    \n",
    "    def update_params(self, grads):\n",
    "        learning_rate=self.learning_rate\n",
    "        params = self.params\n",
    "        params['W'] = params['W'] - learning_rate*grads['dW']\n",
    "        params['b'] = params['b'] - learning_rate*grads['db']\n",
    "        return params\n",
    "    \n",
    "    def compute_cost(self, y, y_hat):\n",
    "        m = y.shape[0]\n",
    "        cost = 1/m * np.sum((y_hat - y) * (y_hat - y))\n",
    "        return cost\n",
    "    \n",
    "    def fit(self, X, y):\n",
    "        for i in range(self.n_estimators):\n",
    "            print(i)\n",
    "            y_hat = self.forward_propagation(X)\n",
    "            curr_cost = self.compute_cost(y, y_hat)\n",
    "            grads = self.backward_propagation(X, y, y_hat)\n",
    "            \n",
    "            self.params = self.update_params(grads)\n",
    "            \n",
    "            print('After {} estimators, Cost: {}'.format(i, curr_cost))\n",
    "            \n",
    "    def predict(self, X):\n",
    "        return X * self.params['W'] + self.params['b']"
   ]
  },
  {
   "cell_type": "markdown",
   "id": "2761c487",
   "metadata": {},
   "source": [
    "## Create a Linear Model\n",
    "- Dims = [1] because it only have 1 features and 1 layer.\n",
    "- I use List for dims because I want it to has more than 1 layer (which is not Linear Regression anymore)."
   ]
  },
  {
   "cell_type": "code",
   "execution_count": 5,
   "id": "e700b025",
   "metadata": {},
   "outputs": [
    {
     "name": "stdout",
     "output_type": "stream",
     "text": [
      "0\n",
      "After 0 estimators, Cost: 111.73671043647195\n",
      "1\n",
      "After 1 estimators, Cost: 44.2853570340596\n",
      "2\n",
      "After 2 estimators, Cost: 17.994948835997718\n",
      "3\n",
      "After 3 estimators, Cost: 7.745850501702356\n",
      "4\n",
      "After 4 estimators, Cost: 3.7484817522763003\n",
      "5\n",
      "After 5 estimators, Cost: 2.1876608095509344\n",
      "6\n",
      "After 6 estimators, Cost: 1.5765367323283377\n",
      "7\n",
      "After 7 estimators, Cost: 1.3356512504062557\n",
      "8\n",
      "After 8 estimators, Cost: 1.2391735900088348\n",
      "9\n",
      "After 9 estimators, Cost: 1.1990882131650578\n",
      "10\n",
      "After 10 estimators, Cost: 1.1810888872250802\n",
      "11\n",
      "After 11 estimators, Cost: 1.171801080822493\n",
      "12\n",
      "After 12 estimators, Cost: 1.1660079323853425\n",
      "13\n",
      "After 13 estimators, Cost: 1.1616719711137333\n",
      "14\n",
      "After 14 estimators, Cost: 1.1579949833255143\n",
      "15\n",
      "After 15 estimators, Cost: 1.1546618990863564\n",
      "16\n",
      "After 16 estimators, Cost: 1.1515461132103177\n",
      "17\n",
      "After 17 estimators, Cost: 1.1485946358862609\n",
      "18\n",
      "After 18 estimators, Cost: 1.1457833264802413\n",
      "19\n",
      "After 19 estimators, Cost: 1.1430994403335062\n",
      "20\n",
      "After 20 estimators, Cost: 1.1405348202333814\n",
      "21\n",
      "After 21 estimators, Cost: 1.138083236598402\n",
      "22\n",
      "After 22 estimators, Cost: 1.135739344772863\n",
      "23\n",
      "After 23 estimators, Cost: 1.1334982728065586\n",
      "24\n",
      "After 24 estimators, Cost: 1.1313554552027207\n",
      "25\n",
      "After 25 estimators, Cost: 1.1293065627697185\n",
      "26\n",
      "After 26 estimators, Cost: 1.1273474701608945\n",
      "27\n",
      "After 27 estimators, Cost: 1.1254742383266167\n",
      "28\n",
      "After 28 estimators, Cost: 1.1236831029925465\n",
      "29\n",
      "After 29 estimators, Cost: 1.1219704656916485\n",
      "30\n",
      "After 30 estimators, Cost: 1.120332885987694\n",
      "31\n",
      "After 31 estimators, Cost: 1.118767074350747\n",
      "32\n",
      "After 32 estimators, Cost: 1.1172698854661502\n",
      "33\n",
      "After 33 estimators, Cost: 1.1158383118840203\n",
      "34\n",
      "After 34 estimators, Cost: 1.1144694779654654\n",
      "35\n",
      "After 35 estimators, Cost: 1.113160634101302\n",
      "36\n",
      "After 36 estimators, Cost: 1.1119091511869301\n",
      "37\n",
      "After 37 estimators, Cost: 1.1107125153404456\n",
      "38\n",
      "After 38 estimators, Cost: 1.1095683228526563\n",
      "39\n",
      "After 39 estimators, Cost: 1.1084742753585866\n",
      "40\n",
      "After 40 estimators, Cost: 1.1074281752206532\n",
      "41\n",
      "After 41 estimators, Cost: 1.1064279211142067\n",
      "42\n",
      "After 42 estimators, Cost: 1.1054715038065464\n",
      "43\n",
      "After 43 estimators, Cost: 1.104557002120926\n",
      "44\n",
      "After 44 estimators, Cost: 1.103682579077446\n",
      "45\n",
      "After 45 estimators, Cost: 1.1028464782030647\n",
      "46\n",
      "After 46 estimators, Cost: 1.1020470200033372\n",
      "47\n",
      "After 47 estimators, Cost: 1.1012825985887753\n",
      "48\n",
      "After 48 estimators, Cost: 1.1005516784490597\n",
      "49\n",
      "After 49 estimators, Cost: 1.0998527913686291\n",
      "50\n",
      "After 50 estimators, Cost: 1.0991845334774422\n",
      "51\n",
      "After 51 estimators, Cost: 1.0985455624309908\n",
      "52\n",
      "After 52 estimators, Cost: 1.0979345947139056\n",
      "53\n",
      "After 53 estimators, Cost: 1.0973504030617272\n",
      "54\n",
      "After 54 estimators, Cost: 1.0967918139956752\n",
      "55\n",
      "After 55 estimators, Cost: 1.0962577054654523\n",
      "56\n",
      "After 56 estimators, Cost: 1.0957470045953601\n",
      "57\n",
      "After 57 estimators, Cost: 1.0952586855291886\n",
      "58\n",
      "After 58 estimators, Cost: 1.0947917673695557\n",
      "59\n",
      "After 59 estimators, Cost: 1.0943453122075553\n",
      "60\n",
      "After 60 estimators, Cost: 1.0939184232387622\n",
      "61\n",
      "After 61 estimators, Cost: 1.0935102429617978\n",
      "62\n",
      "After 62 estimators, Cost: 1.093119951455851\n",
      "63\n",
      "After 63 estimators, Cost: 1.0927467647336808\n",
      "64\n",
      "After 64 estimators, Cost: 1.0923899331668099\n",
      "65\n",
      "After 65 estimators, Cost: 1.0920487399797227\n",
      "66\n",
      "After 66 estimators, Cost: 1.0917224998100659\n",
      "67\n",
      "After 67 estimators, Cost: 1.0914105573319457\n",
      "68\n",
      "After 68 estimators, Cost: 1.0911122859395612\n",
      "69\n",
      "After 69 estimators, Cost: 1.090827086488522\n",
      "70\n",
      "After 70 estimators, Cost: 1.0905543860923417\n",
      "71\n",
      "After 71 estimators, Cost: 1.0902936369716612\n",
      "72\n",
      "After 72 estimators, Cost: 1.0900443153539146\n",
      "73\n",
      "After 73 estimators, Cost: 1.0898059204212165\n",
      "74\n",
      "After 74 estimators, Cost: 1.0895779733043576\n",
      "75\n",
      "After 75 estimators, Cost: 1.089360016120887\n",
      "76\n",
      "After 76 estimators, Cost: 1.089151611055357\n",
      "77\n",
      "After 77 estimators, Cost: 1.0889523394798715\n",
      "78\n",
      "After 78 estimators, Cost: 1.0887618011131797\n",
      "79\n",
      "After 79 estimators, Cost: 1.0885796132166206\n",
      "80\n",
      "After 80 estimators, Cost: 1.0884054098253098\n",
      "81\n",
      "After 81 estimators, Cost: 1.088238841013016\n",
      "82\n",
      "After 82 estimators, Cost: 1.0880795721892564\n",
      "83\n",
      "After 83 estimators, Cost: 1.087927283427197\n",
      "84\n",
      "After 84 estimators, Cost: 1.0877816688210116\n",
      "85\n",
      "After 85 estimators, Cost: 1.0876424358713979\n",
      "86\n",
      "After 86 estimators, Cost: 1.0875093048980287\n",
      "87\n",
      "After 87 estimators, Cost: 1.0873820084777532\n",
      "88\n",
      "After 88 estimators, Cost: 1.0872602909074183\n",
      "89\n",
      "After 89 estimators, Cost: 1.087143907690228\n",
      "90\n",
      "After 90 estimators, Cost: 1.0870326250446245\n",
      "91\n",
      "After 91 estimators, Cost: 1.0869262194346783\n",
      "92\n",
      "After 92 estimators, Cost: 1.0868244771210707\n",
      "93\n",
      "After 93 estimators, Cost: 1.086727193731751\n",
      "94\n",
      "After 94 estimators, Cost: 1.0866341738514091\n",
      "95\n",
      "After 95 estimators, Cost: 1.0865452306289398\n",
      "96\n",
      "After 96 estimators, Cost: 1.0864601854021114\n",
      "97\n",
      "After 97 estimators, Cost: 1.0863788673386825\n",
      "98\n",
      "After 98 estimators, Cost: 1.0863011130932487\n",
      "99\n",
      "After 99 estimators, Cost: 1.0862267664791256\n"
     ]
    }
   ],
   "source": [
    "# Create a new Model\n",
    "linear_model = MyLinearModel(dims=[1])\n",
    "\n",
    "# Fit the model into our Dataset\n",
    "linear_model.fit(X, y)"
   ]
  },
  {
   "cell_type": "markdown",
   "id": "3a403e04",
   "metadata": {},
   "source": [
    "## Check the Model by Visualization\n",
    "- Plot the Dataset in Scatter Plot with a Model Linear Line"
   ]
  },
  {
   "cell_type": "code",
   "execution_count": 6,
   "id": "3d5c5fd4",
   "metadata": {},
   "outputs": [
    {
     "data": {
      "image/png": "[encoded data removed]",
      "text/plain": [
       "<Figure size 432x288 with 1 Axes>"
      ]
     },
     "metadata": {
      "needs_background": "light"
     },
     "output_type": "display_data"
    }
   ],
   "source": [
    "# Load Model's trained Parameters to plot it with the \n",
    "W = linear_model.params['W']\n",
    "b = linear_model.params['b']\n",
    "X_model = np.linspace(0, 2, 100).reshape(100, 1) # use X_model to plot the line \"naturally\" :)\n",
    "\n",
    "plt.plot(X, y, \"b.\")\n",
    "plt.plot(X_model, W*X_model + b, c=\"r\")\n",
    "plt.xlabel(\"$x_1$\", fontsize=18)\n",
    "plt.ylabel(\"$y$\", rotation=0, fontsize=18)\n",
    "plt.axis([0, 2, 0, 15])\n",
    "plt.show()"
   ]
  },
  {
   "cell_type": "markdown",
   "id": "e2965ec6",
   "metadata": {},
   "source": [
    "# Conclusion"
   ]
  },
  {
   "cell_type": "markdown",
   "id": "4ad44d14",
   "metadata": {},
   "source": [
    "- This is just really simple Model I want to build to comprehend what I have learnt so far and understand everything from the ground.\n",
    "- An easy one but \"hard enough\" to made me spent half of today building this :)"
   ]
  }
 ],
 "metadata": {
  "kernelspec": {
   "display_name": "Python 3",
   "language": "python",
   "name": "python3"
  },
  "language_info": {
   "codemirror_mode": {
    "name": "ipython",
    "version": 3
   },
   "file_extension": ".py",
   "mimetype": "text/x-python",
   "name": "python",
   "nbconvert_exporter": "python",
   "pygments_lexer": "ipython3",
   "version": "3.8.11"
  }
 },
 "nbformat": 4,
 "nbformat_minor": 5
}
