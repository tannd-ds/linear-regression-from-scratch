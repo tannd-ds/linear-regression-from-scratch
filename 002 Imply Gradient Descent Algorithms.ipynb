{
 "cells": [
  {
   "cell_type": "markdown",
   "id": "6a85741c",
   "metadata": {},
   "source": [
    "# Linear Regression from scratch with 3 Training Techniques\n",
    "*This notebook was created on 27/08/2021*\n",
    "- In this notebook, I defined a Linear Regression Object (Class) from scratch (without using any predefined model from any library like scikit-learn, tensorflow or keras).\n",
    "- I built this based on what I remember from the **Logistic Regresisson Model from Scratch** I learnt from Mr.Andrew Ng on Coursera."
   ]
  },
  {
   "cell_type": "markdown",
   "id": "a1bc8edf",
   "metadata": {},
   "source": [
    "## Import Libaries"
   ]
  },
  {
   "cell_type": "code",
   "execution_count": 1,
   "id": "e9cf31e5",
   "metadata": {},
   "outputs": [],
   "source": [
    "import numpy as np\n",
    "import matplotlib.pyplot as plt"
   ]
  },
  {
   "cell_type": "markdown",
   "id": "5faa9db3",
   "metadata": {},
   "source": [
    "## Make an artificial dataset"
   ]
  },
  {
   "cell_type": "code",
   "execution_count": 2,
   "id": "cf8dcac5",
   "metadata": {},
   "outputs": [],
   "source": [
    "# Define expected Function\n",
    "X = 3 * np.random.rand(100, 1)\n",
    "y = 3 + 5 * X + np.random.randn(100, 1)"
   ]
  },
  {
   "cell_type": "code",
   "execution_count": 3,
   "id": "4751eb8b",
   "metadata": {
    "scrolled": true
   },
   "outputs": [
    {
     "data": {
      "image/png": "[encoded data removed]",
      "text/plain": [
       "<Figure size 432x288 with 1 Axes>"
      ]
     },
     "metadata": {
      "needs_background": "light"
     },
     "output_type": "display_data"
    }
   ],
   "source": [
    "plt.plot(X, y, \"b.\")\n",
    "plt.xlabel(\"$x_1$\")\n",
    "plt.ylabel(\"$y$\", rotation=0)\n",
    "plt.axis([0, 2, 0, 15])\n",
    "plt.show()"
   ]
  },
  {
   "cell_type": "markdown",
   "id": "ed2da5df",
   "metadata": {},
   "source": [
    "## Model Definition"
   ]
  },
  {
   "cell_type": "code",
   "execution_count": 80,
   "id": "71d02823",
   "metadata": {},
   "outputs": [],
   "source": [
    "class MyLinearModel:\n",
    "    def __init__(self, dims, learning_rate=0.05, n_estimators=100, batch_size=-1):\n",
    "        self.dims = dims\n",
    "        self.params = self.initial_parameters(self.dims)\n",
    "        self.learning_rate = learning_rate\n",
    "        self.n_estimators = n_estimators\n",
    "        self.batch_size = batch_size\n",
    "    \n",
    "    def initial_parameters(self, dims):\n",
    "        np.random.seed(42)\n",
    "        dims = dims + [1]\n",
    "        params = {}\n",
    "        for i in range(1, len(dims)):\n",
    "            params['W'] = np.random.rand(dims[i], dims[i-1])\n",
    "            params['b'] = np.zeros((dims[i], dims[i-1]))\n",
    "        return params\n",
    "    \n",
    "    def forward_propagation(self, X):\n",
    "        params = self.params\n",
    "        y_hat = np.dot(X, params['W']) + params['b']\n",
    "        return y_hat\n",
    "    \n",
    "    def backward_propagation(self, X, y, y_hat):\n",
    "        grads = {}\n",
    "        m = X.shape[0]\n",
    "        \n",
    "        grads['dW'] = 2/m * np.dot((y_hat - y).T, X)\n",
    "        grads['db'] = 2/m * np.sum(y_hat-y)\n",
    "        return grads\n",
    "    \n",
    "    def update_params(self, grads):\n",
    "        learning_rate=self.learning_rate\n",
    "        params = self.params\n",
    "        params['W'] = params['W'] - learning_rate*grads['dW']\n",
    "        params['b'] = params['b'] - learning_rate*grads['db']\n",
    "        return params\n",
    "    \n",
    "    def compute_cost(self, y, y_hat):\n",
    "        m = y.shape[0]\n",
    "        cost = 1/m * np.sum((y_hat - y) * (y_hat - y))\n",
    "        return cost\n",
    "    \n",
    "    def fit(self, X, y, batch_size=-1):\n",
    "        \"\"\"\n",
    "        Fit Linear Regression using Gradient Descent\n",
    "        If - Model Batches size = -1 then Run Batch Gradient Descent\n",
    "           - Model Batches size = 1  then Run Stochastic Gradient Descent\n",
    "           - Model Batches size is some other numbers then run Mini-batch Gradient Descent\n",
    "        Argument:\n",
    "          -- X: A (m by n) numpy Array (or Matrix somehow) contains the input (features).\n",
    "          -- y: A (m by 1) numpy Array contains the output (labels).\n",
    "          -- m is the number of sample in the Trainning set, n is the number of features.\n",
    "        \"\"\"\n",
    "        if (self.batch_size == -1):\n",
    "            print('Fitting on Full Batch...')\n",
    "            self.batch_fit(X, y)\n",
    "        elif (self.batch_size == 1):\n",
    "            print('Fitting using Stochastic Gradient Descent...')\n",
    "            self.stochastic_fit(X, y)\n",
    "        else:\n",
    "            print('Fitting using Mini-Batch...')\n",
    "            self.mini_batch_fit(X, y)\n",
    "    \n",
    "    def batch_fit(self, X, y):\n",
    "        for i in range(self.n_estimators):\n",
    "            y_hat = self.forward_propagation(X)\n",
    "            curr_cost = self.compute_cost(y, y_hat)\n",
    "            grads = self.backward_propagation(X, y, y_hat)\n",
    "            \n",
    "            self.params = self.update_params(grads)\n",
    "            \n",
    "            print('After {} estimators, Cost: {}'.format(i, curr_cost))\n",
    "    \n",
    "    def stochastic_fit(self, X, y):\n",
    "        \"\"\"\n",
    "        Fit Linear Regression using Stochastic Gradient Descent (SGD)\n",
    "        Argument:\n",
    "          -- X: A (m by n) numpy Array (or Matrix somehow) contains the input (features).\n",
    "          -- y: A (m by 1) numpy Array contains the output (labels).\n",
    "          -- m is the number of sample in the Trainning set, n is the number of features.\n",
    "        \"\"\"\n",
    "        for i in range(self.n_estimators):\n",
    "            for j in range(X.shape[0]):\n",
    "                X_curr, y_curr = X[j], y[j]\n",
    "                y_hat = self.forward_propagation(X_curr)\n",
    "                curr_cost = self.compute_cost(y_curr, y_hat)\n",
    "                grads = self.backward_propagation(X_curr, y_curr, y_hat)\n",
    "                self.params = self.update_params(grads)\n",
    "                \n",
    "                print('Epoch {}, After {} estimators, Cost: {}'.format(i, j, curr_cost))\n",
    "                \n",
    "    def mini_batch_fit(self, X, y):\n",
    "        batches = mini_batch_split(X.shape[0], self.batch_size)\n",
    "        for i in range(self.n_estimators):\n",
    "            for j in range(len(batches)-1):\n",
    "                batch_start = int(batches[j])\n",
    "                batch_end = int(batches[j+1]) - 1\n",
    "\n",
    "                X_curr, y_curr = X[batch_start:batch_end], y[batch_start: batch_end]\n",
    "                y_hat = self.forward_propagation(X_curr)\n",
    "                curr_cost = self.compute_cost(y_curr, y_hat)\n",
    "                grads = self.backward_propagation(X_curr, y_curr, y_hat)\n",
    "                self.params = self.update_params(grads)\n",
    "                \n",
    "                print('Epoch {}, After {} estimators, Cost: {}'.format(i, j, curr_cost))\n",
    "                \n",
    "                \n",
    "    def mini_batch_split(self, m, batch_size=16):\n",
    "        \"\"\"\n",
    "        Helper function, return the range of each mini-batch divided from batch size m\n",
    "        \"\"\"\n",
    "        batches = np.linspace(0, (m // batch_size + 1) * batch_size, m // batch_size + 2)\n",
    "        batches[-1] = m\n",
    "        return batches\n",
    "        \n",
    "            \n",
    "    def predict(self, X):\n",
    "        return X * self.params['W'] + self.params['b']"
   ]
  },
  {
   "cell_type": "markdown",
   "id": "2761c487",
   "metadata": {},
   "source": [
    "## Create a Linear Model\n",
    "- Dims = [1] because it only have 1 features and 1 layer.\n",
    "- I use List for dims because I want it to has more than 1 layer (which is not Linear Regression anymore)."
   ]
  },
  {
   "cell_type": "code",
   "execution_count": 82,
   "id": "bec804dd",
   "metadata": {},
   "outputs": [
    {
     "name": "stdout",
     "output_type": "stream",
     "text": [
      "Fitting on Full Batch...\n",
      "After 0 estimators, Cost: 115.53205457252182\n",
      "After 1 estimators, Cost: 43.978176110854626\n",
      "After 2 estimators, Cost: 17.083518251613654\n",
      "After 3 estimators, Cost: 6.974387438752342\n",
      "After 4 estimators, Cost: 3.1742447769409767\n",
      "After 5 estimators, Cost: 1.7454032745762122\n",
      "After 6 estimators, Cost: 1.207852805039705\n",
      "After 7 estimators, Cost: 1.0053196671367004\n",
      "After 8 estimators, Cost: 0.9287234933744678\n",
      "After 9 estimators, Cost: 0.899479176836712\n"
     ]
    }
   ],
   "source": [
    "# Run Fitting on Batch Gradient Descent\n",
    "lm_batch = MyLinearModel(dims=[1], n_estimators=10,)\n",
    "lm_batch.fit(X, y)"
   ]
  },
  {
   "cell_type": "code",
   "execution_count": 84,
   "id": "e3900cbb",
   "metadata": {
    "scrolled": true
   },
   "outputs": [
    {
     "name": "stdout",
     "output_type": "stream",
     "text": [
      "Fitting using Stochastic Gradient Descent...\n",
      "Epoch 0, After 0 estimators, Cost: 267.89596884803143\n",
      "Epoch 0, After 1 estimators, Cost: 0.44633993896320456\n",
      "Epoch 0, After 2 estimators, Cost: 0.22680617853038817\n",
      "Epoch 0, After 3 estimators, Cost: 0.052098468441624836\n",
      "Epoch 0, After 4 estimators, Cost: 0.3556646785841381\n",
      "Epoch 0, After 5 estimators, Cost: 0.00016640753200006104\n",
      "Epoch 0, After 6 estimators, Cost: 0.2571509666107712\n",
      "Epoch 0, After 7 estimators, Cost: 1.6890652999021032\n",
      "Epoch 0, After 8 estimators, Cost: 1.1731789013297222\n",
      "Epoch 0, After 9 estimators, Cost: 0.009564971561026642\n",
      "Epoch 0, After 10 estimators, Cost: 0.2943441832795913\n",
      "Epoch 0, After 11 estimators, Cost: 0.5691641450550847\n",
      "Epoch 0, After 12 estimators, Cost: 3.190468057871772\n",
      "Epoch 0, After 13 estimators, Cost: 11.43791229093156\n",
      "Epoch 0, After 14 estimators, Cost: 0.6408660214187996\n",
      "Epoch 0, After 15 estimators, Cost: 2.6155605431407016\n",
      "Epoch 0, After 16 estimators, Cost: 0.1284962317466521\n",
      "Epoch 0, After 17 estimators, Cost: 0.8810628255717462\n",
      "Epoch 0, After 18 estimators, Cost: 0.6592393266217925\n",
      "Epoch 0, After 19 estimators, Cost: 1.0623927309004806\n",
      "Epoch 0, After 20 estimators, Cost: 1.8893277740590653\n",
      "Epoch 0, After 21 estimators, Cost: 0.05276982411367728\n",
      "Epoch 0, After 22 estimators, Cost: 4.515890548564085\n",
      "Epoch 0, After 23 estimators, Cost: 0.0403850440529231\n",
      "Epoch 0, After 24 estimators, Cost: 3.567295452251808\n",
      "Epoch 0, After 25 estimators, Cost: 0.7382829317951236\n",
      "Epoch 0, After 26 estimators, Cost: 1.4147906884657913\n",
      "Epoch 0, After 27 estimators, Cost: 6.5502883248967905\n",
      "Epoch 0, After 28 estimators, Cost: 0.6096172420757192\n",
      "Epoch 0, After 29 estimators, Cost: 0.21931083616439262\n",
      "Epoch 0, After 30 estimators, Cost: 0.357186962412359\n",
      "Epoch 0, After 31 estimators, Cost: 0.0205992693289947\n",
      "Epoch 0, After 32 estimators, Cost: 0.003185527676802313\n",
      "Epoch 0, After 33 estimators, Cost: 0.4238794159309659\n",
      "Epoch 0, After 34 estimators, Cost: 3.37993635243051\n",
      "Epoch 0, After 35 estimators, Cost: 0.009690542028178257\n",
      "Epoch 0, After 36 estimators, Cost: 0.09253404771395189\n",
      "Epoch 0, After 37 estimators, Cost: 0.4335334146187346\n",
      "Epoch 0, After 38 estimators, Cost: 1.852001333450399\n",
      "Epoch 0, After 39 estimators, Cost: 1.181537436988569\n",
      "Epoch 0, After 40 estimators, Cost: 1.5570335436593203\n",
      "Epoch 0, After 41 estimators, Cost: 0.49954959198657173\n",
      "Epoch 0, After 42 estimators, Cost: 0.9143690028202771\n",
      "Epoch 0, After 43 estimators, Cost: 0.10951270477518774\n",
      "Epoch 0, After 44 estimators, Cost: 0.8680694086214852\n",
      "Epoch 0, After 45 estimators, Cost: 0.07389172849695606\n",
      "Epoch 0, After 46 estimators, Cost: 0.3569585674873\n",
      "Epoch 0, After 47 estimators, Cost: 1.5688014360594373\n",
      "Epoch 0, After 48 estimators, Cost: 0.04111547332426546\n",
      "Epoch 0, After 49 estimators, Cost: 0.040334793124250534\n",
      "Epoch 0, After 50 estimators, Cost: 0.6188133592990229\n",
      "Epoch 0, After 51 estimators, Cost: 7.015441734518145\n",
      "Epoch 0, After 52 estimators, Cost: 4.545164573029934\n",
      "Epoch 0, After 53 estimators, Cost: 0.002395024272614932\n",
      "Epoch 0, After 54 estimators, Cost: 0.0014446280631859737\n",
      "Epoch 0, After 55 estimators, Cost: 0.08374542590973531\n",
      "Epoch 0, After 56 estimators, Cost: 5.4922738875685875\n",
      "Epoch 0, After 57 estimators, Cost: 0.0013082665548025834\n",
      "Epoch 0, After 58 estimators, Cost: 2.6065091456580083\n",
      "Epoch 0, After 59 estimators, Cost: 4.116034337908249\n",
      "Epoch 0, After 60 estimators, Cost: 0.2673580739756908\n",
      "Epoch 0, After 61 estimators, Cost: 0.11232823458599578\n",
      "Epoch 0, After 62 estimators, Cost: 0.02558339813063759\n",
      "Epoch 0, After 63 estimators, Cost: 0.10868332728216971\n",
      "Epoch 0, After 64 estimators, Cost: 0.5520296164139823\n",
      "Epoch 0, After 65 estimators, Cost: 0.16236569401732762\n",
      "Epoch 0, After 66 estimators, Cost: 0.8582784633737754\n",
      "Epoch 0, After 67 estimators, Cost: 0.09726107666062395\n",
      "Epoch 0, After 68 estimators, Cost: 1.050205890157215\n",
      "Epoch 0, After 69 estimators, Cost: 0.20870472179735933\n",
      "Epoch 0, After 70 estimators, Cost: 0.917664981019284\n",
      "Epoch 0, After 71 estimators, Cost: 0.16030062940285913\n",
      "Epoch 0, After 72 estimators, Cost: 0.050887952709750765\n",
      "Epoch 0, After 73 estimators, Cost: 1.7780994959862741\n",
      "Epoch 0, After 74 estimators, Cost: 3.6190699926167675\n",
      "Epoch 0, After 75 estimators, Cost: 0.02465173527077365\n",
      "Epoch 0, After 76 estimators, Cost: 6.084839779151272\n",
      "Epoch 0, After 77 estimators, Cost: 0.31134609813218633\n",
      "Epoch 0, After 78 estimators, Cost: 0.2772987852603036\n",
      "Epoch 0, After 79 estimators, Cost: 0.0482742678195109\n",
      "Epoch 0, After 80 estimators, Cost: 0.2818300211843794\n",
      "Epoch 0, After 81 estimators, Cost: 0.04472029999980239\n",
      "Epoch 0, After 82 estimators, Cost: 0.0005423391427477731\n",
      "Epoch 0, After 83 estimators, Cost: 0.108652780267046\n",
      "Epoch 0, After 84 estimators, Cost: 0.36397640089583727\n",
      "Epoch 0, After 85 estimators, Cost: 1.4781103845148205\n",
      "Epoch 0, After 86 estimators, Cost: 1.45325773799773\n",
      "Epoch 0, After 87 estimators, Cost: 0.0010603864034541247\n",
      "Epoch 0, After 88 estimators, Cost: 0.05824071388001864\n",
      "Epoch 0, After 89 estimators, Cost: 0.18156617174267578\n",
      "Epoch 0, After 90 estimators, Cost: 2.633106582417892\n",
      "Epoch 0, After 91 estimators, Cost: 0.6400999585029838\n",
      "Epoch 0, After 92 estimators, Cost: 0.0010722787025081626\n",
      "Epoch 0, After 93 estimators, Cost: 4.28248911808314\n",
      "Epoch 0, After 94 estimators, Cost: 0.5617776136566742\n",
      "Epoch 0, After 95 estimators, Cost: 4.460087027848298\n",
      "Epoch 0, After 96 estimators, Cost: 0.5751258752051842\n",
      "Epoch 0, After 97 estimators, Cost: 0.9318161412550467\n",
      "Epoch 0, After 98 estimators, Cost: 0.772759687821745\n",
      "Epoch 0, After 99 estimators, Cost: 0.2771320333121331\n"
     ]
    }
   ],
   "source": [
    "# Run Fitting on Stochastic Gradient Descent\n",
    "lm_stochastic = MyLinearModel(dims=[1], n_estimators=1, batch_size=1)\n",
    "lm_stochastic.fit(X, y)"
   ]
  },
  {
   "cell_type": "code",
   "execution_count": 87,
   "id": "b99131fe",
   "metadata": {},
   "outputs": [
    {
     "name": "stdout",
     "output_type": "stream",
     "text": [
      "Fitting using Mini-Batch...\n",
      "Epoch 0, After 0 estimators, Cost: 108.2102925193856\n",
      "Epoch 0, After 1 estimators, Cost: 41.24404223402115\n",
      "Epoch 0, After 2 estimators, Cost: 18.119723454658683\n",
      "Epoch 0, After 3 estimators, Cost: 8.668292767966026\n",
      "Epoch 0, After 4 estimators, Cost: 4.4935569826366315\n",
      "Epoch 0, After 5 estimators, Cost: 2.1323436386343246\n",
      "Epoch 0, After 6 estimators, Cost: 0.19197918516882606\n",
      "Epoch 1, After 0 estimators, Cost: 0.8054375976237967\n",
      "Epoch 1, After 1 estimators, Cost: 1.067480087500716\n",
      "Epoch 1, After 2 estimators, Cost: 1.0672451330606376\n",
      "Epoch 1, After 3 estimators, Cost: 1.052132008524125\n",
      "Epoch 1, After 4 estimators, Cost: 0.892227556226136\n",
      "Epoch 1, After 5 estimators, Cost: 0.6464227649056695\n",
      "Epoch 1, After 6 estimators, Cost: 0.34948024560018714\n"
     ]
    }
   ],
   "source": [
    "# Run Fitting on Mini-Batch Gradient Descent\n",
    "lm_mini = MyLinearModel(dims=[1], n_estimators=2, batch_size=16)\n",
    "lm_mini.fit(X, y)"
   ]
  },
  {
   "cell_type": "markdown",
   "id": "3a403e04",
   "metadata": {},
   "source": [
    "## Check the Model by Visualization\n",
    "- Plot the Dataset in Scatter Plot with a Model Linear Line"
   ]
  },
  {
   "cell_type": "code",
   "execution_count": 96,
   "id": "3d5c5fd4",
   "metadata": {},
   "outputs": [
    {
     "data": {
      "image/png": "[encoded data removed]",
      "text/plain": [
       "<Figure size 1440x576 with 1 Axes>"
      ]
     },
     "metadata": {
      "needs_background": "light"
     },
     "output_type": "display_data"
    }
   ],
   "source": [
    "# Load Model's trained Parameters to plot it with the \n",
    "# Batch Model Parameters\n",
    "W_batch = lm_batch.params['W']\n",
    "b_batch = lm_batch.params['b']\n",
    "# Stochastic Model Parameters\n",
    "W_sto = lm_stochastic.params['W']\n",
    "b_sto = lm_stochastic.params['b']\n",
    "# Mini-batch Model Parameters\n",
    "W_mini = lm_mini.params['W']\n",
    "b_mini = lm_mini.params['b']\n",
    "X_model = np.linspace(0, 2, 100).reshape(100, 1) # use X_model to plot the line \"naturally\" :)\n",
    "\n",
    "plt.figure(figsize=(20, 8))\n",
    "plt.plot(X, y, \"b.\")\n",
    "plt.plot(X_model, W_batch*X_model + b_batch, c=\"r\", ls='-', label='Batch GD')\n",
    "plt.plot(X_model, W_sto*X_model + b_sto, c=\"g\", ls='-', label='Stochastic GD')\n",
    "plt.plot(X_model, W_mini*X_model + b_mini, c=\"y\", ls='-', label='Mini-batch GD')\n",
    "\n",
    "\n",
    "plt.xlabel(\"$x_1$\", fontsize=18)\n",
    "plt.ylabel(\"$y$\", rotation=0, fontsize=18)\n",
    "plt.axis([0, 2, 0, 15])\n",
    "plt.legend(fontsize=16)\n",
    "plt.show()"
   ]
  },
  {
   "cell_type": "markdown",
   "id": "e2965ec6",
   "metadata": {},
   "source": [
    "# Conclusion"
   ]
  },
  {
   "cell_type": "markdown",
   "id": "4ad44d14",
   "metadata": {},
   "source": [
    "- This is just really simple Model I want to build to comprehend what I have learnt so far and understand everything from the ground.\n",
    "- An easy one but \"hard enough\" to made me spent half of today building this :)\n",
    "----\n",
    "- Using 3 Different Gradient Descent Techniques, they are slightly different result but I guess with enough epochs for each, they will all converge to the optimal point (of course with enough epoch, Bacth "
   ]
  },
  {
   "cell_type": "code",
   "execution_count": null,
   "id": "6c92bfd6",
   "metadata": {},
   "outputs": [],
   "source": []
  }
 ],
 "metadata": {
  "kernelspec": {
   "display_name": "Python 3",
   "language": "python",
   "name": "python3"
  },
  "language_info": {
   "codemirror_mode": {
    "name": "ipython",
    "version": 3
   },
   "file_extension": ".py",
   "mimetype": "text/x-python",
   "name": "python",
   "nbconvert_exporter": "python",
   "pygments_lexer": "ipython3",
   "version": "3.8.11"
  }
 },
 "nbformat": 4,
 "nbformat_minor": 5
}
